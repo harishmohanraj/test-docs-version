{
 "cells": [
  {
   "cell_type": "markdown",
   "metadata": {},
   "source": [
    "This is a guide"
   ]
  },
  {
   "cell_type": "markdown",
   "metadata": {},
   "source": [
    "===\n",
    "\n",
    "This is a link to symbol: `test_docs_version.core.foo` and `foo`\n",
    "\n",
    "This is a link to invalid symbol: [`test_docs_version.core.foo`](https://harishmohanraj.github.io/test-docs-version/0.0.1rc11/api/test_docs_version/core/foo/#test_docs_version.core.foo)\n",
    "\n",
    "==="
   ]
  }
 ],
 "metadata": {
  "kernelspec": {
   "display_name": "python3",
   "language": "python",
   "name": "python3"
  }
 },
 "nbformat": 4,
 "nbformat_minor": 4
}
