{
 "cells": [
  {
   "cell_type": "markdown",
   "metadata": {},
   "source": [
    "This is a guide"
   ]
  },
  {
   "cell_type": "markdown",
   "metadata": {},
   "source": [
    "===\n",
    "\n",
    "This is a link to symbol: `test_docs_version.core.foo` and `foo`\n",
    "\n",
    "==="
   ]
  }
 ],
 "metadata": {
  "kernelspec": {
   "display_name": "python3",
   "language": "python",
   "name": "python3"
  }
 },
 "nbformat": 4,
 "nbformat_minor": 4
}
